{
  "nbformat": 4,
  "nbformat_minor": 0,
  "metadata": {
    "colab": {
      "name": "專案實作titanic",
      "provenance": [],
      "authorship_tag": "ABX9TyPodY8vQ89oGjo677tDdVFn",
      "include_colab_link": true
    },
    "kernelspec": {
      "name": "python3",
      "display_name": "Python 3"
    },
    "language_info": {
      "name": "python"
    }
  },
  "cells": [
    {
      "cell_type": "markdown",
      "metadata": {
        "id": "view-in-github",
        "colab_type": "text"
      },
      "source": [
        "<a href=\"https://colab.research.google.com/github/LiowJerick/titanic_analysis/blob/main/%E5%B0%88%E6%A1%88%E5%AF%A6%E4%BD%9Ctitanic.ipynb\" target=\"_parent\"><img src=\"https://colab.research.google.com/assets/colab-badge.svg\" alt=\"Open In Colab\"/></a>"
      ]
    },
    {
      "cell_type": "code",
      "execution_count": null,
      "metadata": {
        "id": "KfaY1VG5_1zR"
      },
      "outputs": [],
      "source": [
        ""
      ]
    }
  ]
}